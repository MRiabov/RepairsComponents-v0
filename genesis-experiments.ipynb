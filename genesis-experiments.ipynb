{
 "cells": [
  {
   "cell_type": "code",
   "execution_count": 1,
   "id": "db946a5c",
   "metadata": {},
   "outputs": [
    {
     "name": "stderr",
     "output_type": "stream",
     "text": [
      "[I 05/19/25 16:18:08.605 21204] [shell.py:_shell_pop_print@23] Graphical python shell detected, using wrapped sys.stdout\n",
      "\u001b[38;5;159m[Genesis] [16:18:12] [INFO] \u001b[38;5;121m╭───────────────────────────────────────────────╮\u001b[0m\u001b[38;5;159m\u001b[0m\n",
      "\u001b[38;5;159m[Genesis] [16:18:12] [INFO] \u001b[38;5;121m│┈┉┈┉┈┉┈┉┈┉┈┉┈┉┈┉┈┉┈\u001b[0m\u001b[38;5;159m \u001b[38;5;121m\u001b[1m\u001b[3mGenesis\u001b[0m\u001b[38;5;159m \u001b[38;5;121m┈┉┈┉┈┉┈┉┈┉┈┉┈┉┈┉┈┉┈│\u001b[0m\u001b[38;5;159m\u001b[0m\n",
      "\u001b[38;5;159m[Genesis] [16:18:12] [INFO] \u001b[38;5;121m╰───────────────────────────────────────────────╯\u001b[0m\u001b[38;5;159m\u001b[0m\n",
      "\u001b[38;5;159m[Genesis] [16:18:12] [INFO] Running on \u001b[38;5;121m\u001b[4m[Intel(R) Xeon(R) Gold 6130 CPU @ 2.10GHz]\u001b[0m\u001b[38;5;159m with backend \u001b[38;5;121m\u001b[4mgs.cpu\u001b[0m\u001b[38;5;159m. Device memory: \u001b[38;5;121m\u001b[4m187.35\u001b[0m\u001b[38;5;159m GB.\u001b[0m\n",
      "\u001b[38;5;159m[Genesis] [16:18:12] [INFO] 🚀 Genesis initialized. 🔖 version: \u001b[38;5;121m\u001b[4m0.2.1\u001b[0m\u001b[38;5;159m, 🌱 seed: \u001b[38;5;121m\u001b[4mNone\u001b[0m\u001b[38;5;159m, 📏 precision: '\u001b[38;5;121m\u001b[4m32\u001b[0m\u001b[38;5;159m', 🐛 debug: \u001b[38;5;121m\u001b[4mFalse\u001b[0m\u001b[38;5;159m, 🎨 theme: '\u001b[38;5;121m\u001b[4mdark\u001b[0m\u001b[38;5;159m'.\u001b[0m\n"
     ]
    }
   ],
   "source": [
    "import genesis as gs\n",
    "gs.init(backend=gs.cpu)"
   ]
  },
  {
   "cell_type": "code",
   "execution_count": 2,
   "id": "c4433425",
   "metadata": {},
   "outputs": [
    {
     "ename": "GenesisException",
     "evalue": "No display detected. Use `show_viewer=False` for headless mode.",
     "output_type": "error",
     "traceback": [
      "\u001b[0;31m---------------------------------------------------------------------------\u001b[0m",
      "\u001b[0;31mGenesisException\u001b[0m                          Traceback (most recent call last)",
      "Cell \u001b[0;32mIn[2], line 2\u001b[0m\n\u001b[1;32m      1\u001b[0m \u001b[38;5;66;03m# Create a plane with explicit parameters\u001b[39;00m\n\u001b[0;32m----> 2\u001b[0m scene \u001b[38;5;241m=\u001b[39m \u001b[43mgs\u001b[49m\u001b[38;5;241;43m.\u001b[39;49m\u001b[43mScene\u001b[49m\u001b[43m(\u001b[49m\u001b[43mshow_viewer\u001b[49m\u001b[38;5;241;43m=\u001b[39;49m\u001b[38;5;28;43;01mTrue\u001b[39;49;00m\u001b[43m)\u001b[49m\n\u001b[1;32m      4\u001b[0m \u001b[38;5;66;03m# Add a plane\u001b[39;00m\n\u001b[1;32m      5\u001b[0m \u001b[38;5;66;03m# plane = scene.add_entity(gs.morphs.Plane())\u001b[39;00m\n\u001b[1;32m      6\u001b[0m \n\u001b[1;32m      7\u001b[0m \u001b[38;5;66;03m# Add a simple box instead of the Franka robot\u001b[39;00m\n\u001b[1;32m      8\u001b[0m box \u001b[38;5;241m=\u001b[39m scene\u001b[38;5;241m.\u001b[39madd_entity(\n\u001b[1;32m      9\u001b[0m     gs\u001b[38;5;241m.\u001b[39mmorphs\u001b[38;5;241m.\u001b[39mBox(size\u001b[38;5;241m=\u001b[39m(\u001b[38;5;241m0.2\u001b[39m, \u001b[38;5;241m0.2\u001b[39m, \u001b[38;5;241m0.2\u001b[39m), pos\u001b[38;5;241m=\u001b[39m(\u001b[38;5;241m0\u001b[39m, \u001b[38;5;241m0\u001b[39m, \u001b[38;5;241m1.0\u001b[39m))\n\u001b[1;32m     10\u001b[0m )\n",
      "File \u001b[0;32m/venv/main/lib/python3.10/site-packages/genesis/utils/misc.py:27\u001b[0m, in \u001b[0;36massert_initialized.<locals>.new_init\u001b[0;34m(self, *args, **kwargs)\u001b[0m\n\u001b[1;32m     25\u001b[0m \u001b[38;5;28;01mif\u001b[39;00m \u001b[38;5;129;01mnot\u001b[39;00m gs\u001b[38;5;241m.\u001b[39m_initialized:\n\u001b[1;32m     26\u001b[0m     \u001b[38;5;28;01mraise\u001b[39;00m \u001b[38;5;167;01mRuntimeError\u001b[39;00m(\u001b[38;5;124m\"\u001b[39m\u001b[38;5;124mGenesis hasn\u001b[39m\u001b[38;5;124m'\u001b[39m\u001b[38;5;124mt been initialized. Did you call `gs.init()`?\u001b[39m\u001b[38;5;124m\"\u001b[39m)\n\u001b[0;32m---> 27\u001b[0m \u001b[43moriginal_init\u001b[49m\u001b[43m(\u001b[49m\u001b[38;5;28;43mself\u001b[39;49m\u001b[43m,\u001b[49m\u001b[43m \u001b[49m\u001b[38;5;241;43m*\u001b[39;49m\u001b[43margs\u001b[49m\u001b[43m,\u001b[49m\u001b[43m \u001b[49m\u001b[38;5;241;43m*\u001b[39;49m\u001b[38;5;241;43m*\u001b[39;49m\u001b[43mkwargs\u001b[49m\u001b[43m)\u001b[49m\n",
      "File \u001b[0;32m/venv/main/lib/python3.10/site-packages/genesis/engine/scene.py:147\u001b[0m, in \u001b[0;36mScene.__init__\u001b[0;34m(self, sim_options, coupler_options, tool_options, rigid_options, avatar_options, mpm_options, sph_options, fem_options, sf_options, pbd_options, vis_options, viewer_options, renderer, show_viewer, show_FPS)\u001b[0m\n\u001b[1;32m    132\u001b[0m \u001b[38;5;28mself\u001b[39m\u001b[38;5;241m.\u001b[39m_sim \u001b[38;5;241m=\u001b[39m Simulator(\n\u001b[1;32m    133\u001b[0m     scene\u001b[38;5;241m=\u001b[39m\u001b[38;5;28mself\u001b[39m,\n\u001b[1;32m    134\u001b[0m     options\u001b[38;5;241m=\u001b[39m\u001b[38;5;28mself\u001b[39m\u001b[38;5;241m.\u001b[39msim_options,\n\u001b[0;32m   (...)\u001b[0m\n\u001b[1;32m    143\u001b[0m     pbd_options\u001b[38;5;241m=\u001b[39m\u001b[38;5;28mself\u001b[39m\u001b[38;5;241m.\u001b[39mpbd_options,\n\u001b[1;32m    144\u001b[0m )\n\u001b[1;32m    146\u001b[0m \u001b[38;5;66;03m# visualizer\u001b[39;00m\n\u001b[0;32m--> 147\u001b[0m \u001b[38;5;28mself\u001b[39m\u001b[38;5;241m.\u001b[39m_visualizer \u001b[38;5;241m=\u001b[39m \u001b[43mVisualizer\u001b[49m\u001b[43m(\u001b[49m\n\u001b[1;32m    148\u001b[0m \u001b[43m    \u001b[49m\u001b[43mscene\u001b[49m\u001b[38;5;241;43m=\u001b[39;49m\u001b[38;5;28;43mself\u001b[39;49m\u001b[43m,\u001b[49m\n\u001b[1;32m    149\u001b[0m \u001b[43m    \u001b[49m\u001b[43mshow_viewer\u001b[49m\u001b[38;5;241;43m=\u001b[39;49m\u001b[43mshow_viewer\u001b[49m\u001b[43m,\u001b[49m\n\u001b[1;32m    150\u001b[0m \u001b[43m    \u001b[49m\u001b[43mvis_options\u001b[49m\u001b[38;5;241;43m=\u001b[39;49m\u001b[43mvis_options\u001b[49m\u001b[43m,\u001b[49m\n\u001b[1;32m    151\u001b[0m \u001b[43m    \u001b[49m\u001b[43mviewer_options\u001b[49m\u001b[38;5;241;43m=\u001b[39;49m\u001b[43mviewer_options\u001b[49m\u001b[43m,\u001b[49m\n\u001b[1;32m    152\u001b[0m \u001b[43m    \u001b[49m\u001b[43mrenderer\u001b[49m\u001b[38;5;241;43m=\u001b[39;49m\u001b[43mrenderer\u001b[49m\u001b[43m,\u001b[49m\n\u001b[1;32m    153\u001b[0m \u001b[43m\u001b[49m\u001b[43m)\u001b[49m\n\u001b[1;32m    155\u001b[0m \u001b[38;5;66;03m# emitters\u001b[39;00m\n\u001b[1;32m    156\u001b[0m \u001b[38;5;28mself\u001b[39m\u001b[38;5;241m.\u001b[39m_emitters \u001b[38;5;241m=\u001b[39m gs\u001b[38;5;241m.\u001b[39mList()\n",
      "File \u001b[0;32m/venv/main/lib/python3.10/site-packages/genesis/vis/visualizer.py:37\u001b[0m, in \u001b[0;36mVisualizer.__init__\u001b[0;34m(self, scene, show_viewer, vis_options, viewer_options, renderer)\u001b[0m\n\u001b[1;32m     35\u001b[0m \u001b[38;5;28;01mif\u001b[39;00m show_viewer:\n\u001b[1;32m     36\u001b[0m     \u001b[38;5;28;01mif\u001b[39;00m \u001b[38;5;129;01mnot\u001b[39;00m \u001b[38;5;28mself\u001b[39m\u001b[38;5;241m.\u001b[39mconnected_to_display:\n\u001b[0;32m---> 37\u001b[0m         \u001b[43mgs\u001b[49m\u001b[38;5;241;43m.\u001b[39;49m\u001b[43mraise_exception\u001b[49m\u001b[43m(\u001b[49m\u001b[38;5;124;43m\"\u001b[39;49m\u001b[38;5;124;43mNo display detected. Use `show_viewer=False` for headless mode.\u001b[39;49m\u001b[38;5;124;43m\"\u001b[39;49m\u001b[43m)\u001b[49m\n\u001b[1;32m     38\u001b[0m         \u001b[38;5;28mself\u001b[39m\u001b[38;5;241m.\u001b[39m_connected_to_display \u001b[38;5;241m=\u001b[39m \u001b[38;5;28;01mFalse\u001b[39;00m\n\u001b[1;32m     40\u001b[0m     \u001b[38;5;28;01mif\u001b[39;00m viewer_options\u001b[38;5;241m.\u001b[39mres \u001b[38;5;129;01mis\u001b[39;00m \u001b[38;5;28;01mNone\u001b[39;00m:\n",
      "File \u001b[0;32m/venv/main/lib/python3.10/site-packages/genesis/utils/misc.py:18\u001b[0m, in \u001b[0;36mraise_exception\u001b[0;34m(msg)\u001b[0m\n\u001b[1;32m     16\u001b[0m \u001b[38;5;28;01mdef\u001b[39;00m\u001b[38;5;250m \u001b[39m\u001b[38;5;21mraise_exception\u001b[39m(msg\u001b[38;5;241m=\u001b[39m\u001b[38;5;124m\"\u001b[39m\u001b[38;5;124mSomething went wrong.\u001b[39m\u001b[38;5;124m\"\u001b[39m):\n\u001b[1;32m     17\u001b[0m     gs\u001b[38;5;241m.\u001b[39mlogger\u001b[38;5;241m.\u001b[39m_error_msg \u001b[38;5;241m=\u001b[39m msg\n\u001b[0;32m---> 18\u001b[0m     \u001b[38;5;28;01mraise\u001b[39;00m gs\u001b[38;5;241m.\u001b[39mGenesisException(msg)\n",
      "\u001b[0;31mGenesisException\u001b[0m: No display detected. Use `show_viewer=False` for headless mode."
     ]
    }
   ],
   "source": [
    "# Create a plane with explicit parameters\n",
    "scene = gs.Scene(show_viewer=True)\n",
    "\n",
    "# Add a plane\n",
    "# plane = scene.add_entity(gs.morphs.Plane())\n",
    "\n",
    "# Add a simple box instead of the Franka robot\n",
    "box = scene.add_entity(\n",
    "    gs.morphs.Box(size=(0.2, 0.2, 0.2), pos=(0, 0, 1.0))\n",
    ")\n",
    "\n",
    "scene.build()\n",
    "\n",
    "for i in range(1000):\n",
    "    scene.step()\n"
   ]
  },
  {
   "cell_type": "code",
   "execution_count": 8,
   "id": "2261f070",
   "metadata": {},
   "outputs": [
    {
     "name": "stdout",
     "output_type": "stream",
     "text": [
      "(array([0.94591328]), array([0], dtype=int64), array([[0., 0., 1.]]), array([], shape=(0, 0), dtype=float64))\n"
     ]
    }
   ],
   "source": [
    "import igl\n",
    "import numpy as np\n",
    "\n",
    "P = np.array([[0.0, 0.0, 0.0]])\n",
    "V = np.array([[0.0, 0.0, 1.0], [1.0, 0.0, 1.0], [0.0, 1.0, 1.0]])\n",
    "F = np.array([[0, 1, 2]])\n",
    "\n",
    "result = igl.signed_distance(P, V, F)\n",
    "print(result)\n"
   ]
  }
 ],
 "metadata": {
  "kernelspec": {
   "display_name": "main",
   "language": "python",
   "name": "python3"
  },
  "language_info": {
   "codemirror_mode": {
    "name": "ipython",
    "version": 3
   },
   "file_extension": ".py",
   "mimetype": "text/x-python",
   "name": "python",
   "nbconvert_exporter": "python",
   "pygments_lexer": "ipython3",
   "version": "3.10.12"
  }
 },
 "nbformat": 4,
 "nbformat_minor": 5
}
